{
 "cells": [
  {
   "cell_type": "code",
   "execution_count": 80,
   "metadata": {},
   "outputs": [],
   "source": [
    "import json\n",
    "from web3 import Web3\n",
    "import subprocess\n"
   ]
  },
  {
   "cell_type": "code",
   "execution_count": 81,
   "metadata": {},
   "outputs": [],
   "source": [
    "ganache_url = \"HTTP://127.0.0.1:8545\"\n",
    "web3 = Web3(Web3.HTTPProvider(ganache_url))"
   ]
  },
  {
   "cell_type": "code",
   "execution_count": 83,
   "metadata": {},
   "outputs": [
    {
     "name": "stdout",
     "output_type": "stream",
     "text": [
      "['0x40E0e5951A0bEFf602a7218Ec63c2b39DD3257F6', '0x496b0d1420E413097ACe0f65Ad9fD8985261a4F8', '0x3DA7B9673808815Cc6528aC1cc132dc3cb4dd9Df', '0x3a6C92F9348F4Cb35049ED46A5a496a641fDf872', '0xBA3f6dDDC8a11291ba08f1a3f57fa80D834268DA', '0x005E7653A80eBE7AB66AdC904C14582cB7aD8d93', '0x0aFcafe9BC831ddDF16060e11A21e5aF5d6a2B03', '0xdF8F91D26C09746890D4f219216A06a6E159C681', '0x67c6c9aFA8914077B503B3FA45AE8b86506FF07C', '0xb522AF4a88011c3dEb16Bf196da905Adad736b3D']\n"
     ]
    }
   ],
   "source": [
    "print(web3.eth.accounts)"
   ]
  },
  {
   "cell_type": "code",
   "execution_count": 73,
   "metadata": {},
   "outputs": [],
   "source": [
    "abi =\n",
    "\n",
    "address ="
   ]
  },
  {
   "cell_type": "code",
   "execution_count": 74,
   "metadata": {},
   "outputs": [
    {
     "name": "stdout",
     "output_type": "stream",
     "text": [
      "\"\"\n"
     ]
    }
   ],
   "source": [
    "print(data)"
   ]
  },
  {
   "cell_type": "code",
   "execution_count": null,
   "metadata": {},
   "outputs": [],
   "source": []
  }
 ],
 "metadata": {
  "kernelspec": {
   "display_name": "Python 3",
   "language": "python",
   "name": "python3"
  },
  "language_info": {
   "codemirror_mode": {
    "name": "ipython",
    "version": 3
   },
   "file_extension": ".py",
   "mimetype": "text/x-python",
   "name": "python",
   "nbconvert_exporter": "python",
   "pygments_lexer": "ipython3",
   "version": "3.7.9"
  }
 },
 "nbformat": 4,
 "nbformat_minor": 4
}
