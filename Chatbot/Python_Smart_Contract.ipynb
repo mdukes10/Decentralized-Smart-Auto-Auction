{
 "cells": [
  {
   "cell_type": "code",
   "execution_count": 107,
   "metadata": {},
   "outputs": [],
   "source": [
    "import os\n",
    "from web3 import Web3\n",
    "from dotenv import load_dotenv\n",
    "from web3.middleware import geth_poa_middleware\n",
    "from eth_account import Account\n",
    "from pathlib import Path\n",
    "from getpass import getpass\n",
    "import json as json"
   ]
  },
  {
   "cell_type": "code",
   "execution_count": 108,
   "metadata": {},
   "outputs": [],
   "source": [
    "w3 = Web3(Web3.HTTPProvider(\"http://127.0.0.1:8545\"))\n",
    "w3.middleware_onion.inject(geth_poa_middleware, layer=0)\n",
    "\n",
    "with open(\"serviceLayer_abi.json\", \"r\") as abi_file:\n",
    "    serrviceLayer_abi_data = json.load(abi_file)"
   ]
  },
  {
   "cell_type": "code",
   "execution_count": 110,
   "metadata": {},
   "outputs": [
    {
     "data": {
      "text/plain": [
       "['0xCEfE1abAaA1EF448B13B83Fa4E34bb58A63A97f0',\n",
       " '0x9de000d0A15f2DB4eb85b2e79eB9eB86FB71550E',\n",
       " '0xd38688CE9828D77875A2EE0Ec9fC3a8ABB56A62D',\n",
       " '0xFb429dF080E2E584D2a3Ed6cE94ae7209a0DE624',\n",
       " '0x6e4C2Ce6a55C0e9A86f41c0aB81f3f6f2727bc9A',\n",
       " '0x98bfa68D64B0C392D8397D26d9d43C63421b63c8',\n",
       " '0xCBcDb600f05b9Fe0B7c21A7bdFd4609A2733511d',\n",
       " '0x48856E503042EF5c0b9d354Cd79a0647776775a7',\n",
       " '0xE7C27aB3AaAb5B72DbC9F5DFd48dF3ad2c843812',\n",
       " '0x05e04fd4760E5328B9609CbBE09c3183316c8735']"
      ]
     },
     "execution_count": 110,
     "metadata": {},
     "output_type": "execute_result"
    }
   ],
   "source": [
    "w3.eth.accounts[0:10]"
   ]
  },
  {
   "cell_type": "code",
   "execution_count": 115,
   "metadata": {},
   "outputs": [],
   "source": [
    "# Plug in Smart Contract\n",
    "smart_contract_address = \"0xdBA2B2386973cD93d6Ac0A061c5577D518A234B1\"\n",
    "service_contract = w3.eth.contract(abi=serrviceLayer_abi_data, address=smart_contract_address)"
   ]
  },
  {
   "cell_type": "code",
   "execution_count": 117,
   "metadata": {},
   "outputs": [],
   "source": [
    "# Set Default Account to Developer Account\n",
    "w3.eth.defaultAccount = w3.eth.accounts[1]"
   ]
  },
  {
   "cell_type": "code",
   "execution_count": 116,
   "metadata": {
    "collapsed": true
   },
   "outputs": [
    {
     "data": {
      "text/plain": [
       "[<Function add(uint256,address,uint256)>,\n",
       " <Function addBidders(uint256,address,uint256)>,\n",
       " <Function approve(address,uint256)>,\n",
       " <Function bid(uint256,address)>,\n",
       " <Function createAuction(uint256)>,\n",
       " <Function endAuction(uint256)>,\n",
       " <Function registerCar(string,string,string,string,string,uint256,uint256,uint256)>,\n",
       " <Function renounceOwnership()>,\n",
       " <Function safeTransferFrom(address,address,uint256)>,\n",
       " <Function safeTransferFrom(address,address,uint256,bytes)>,\n",
       " <Function setApprovalForAll(address,bool)>,\n",
       " <Function setBidderAddress(address)>,\n",
       " <Function setBidderAmount(uint256)>,\n",
       " <Function transferFrom(address,address,uint256)>,\n",
       " <Function transferOwnership(address)>,\n",
       " <Function auctionEnded(uint256)>,\n",
       " <Function balanceOf(address)>,\n",
       " <Function baseURI()>,\n",
       " <Function bidList(uint256,uint256)>,\n",
       " <Function Cars(uint256)>,\n",
       " <Function currentAuctionNumber()>,\n",
       " <Function getApproved(uint256)>,\n",
       " <Function getBidderAddress()>,\n",
       " <Function getBidderAmount()>,\n",
       " <Function highestBid(uint256)>,\n",
       " <Function highestBidder(uint256)>,\n",
       " <Function isApprovedForAll(address,address)>,\n",
       " <Function isOwner()>,\n",
       " <Function name()>,\n",
       " <Function owner()>,\n",
       " <Function ownerOf(uint256)>,\n",
       " <Function pendingReturn(uint256,address)>,\n",
       " <Function supportsInterface(bytes4)>,\n",
       " <Function symbol()>,\n",
       " <Function tokenByIndex(uint256)>,\n",
       " <Function tokenOfOwnerByIndex(address,uint256)>,\n",
       " <Function tokenURI(uint256)>,\n",
       " <Function totalSupply()>,\n",
       " <Function viewBiddersForTokenId(uint256)>,\n",
       " <Function viewCars(uint256)>]"
      ]
     },
     "execution_count": 116,
     "metadata": {},
     "output_type": "execute_result"
    }
   ],
   "source": [
    "# View All Functions!\n",
    "service_contract.all_functions()"
   ]
  },
  {
   "cell_type": "code",
   "execution_count": 118,
   "metadata": {},
   "outputs": [
    {
     "data": {
      "text/plain": [
       "HexBytes('0xbba3971de11fbc4280f379582e6e2dd35e5799b02192cc998b430dfa3dbae9cd')"
      ]
     },
     "execution_count": 118,
     "metadata": {},
     "output_type": "execute_result"
    }
   ],
   "source": [
    "# 1.) Register Car & Create new Auction\n",
    "service_contract.functions.registerCar(\"VIN2raswfr343j\",\n",
    "                                     \"7070\",\n",
    "                                     \"Tesla\",\n",
    "                                     \"llsdf\",\n",
    "                                     \"LX\",\n",
    "                                     85000,\n",
    "                                     5,\n",
    "                                     500000).transact()\n",
    "\n",
    "# 2.) Add Bidder\n",
    "#Make money from changing string name - gas fee increases!\n",
    "service_contract.functions.addBidders(2,\"0xFb429dF080E2E584D2a3Ed6cE94ae7209a0DE624\",200000000000000000).transact()\n",
    "\n",
    "# 3.) Place Bid\n",
    "service_contract.functions.bid(2,\"0xFb429dF080E2E584D2a3Ed6cE94ae7209a0DE624\").transact({'from':'0xFb429dF080E2E584D2a3Ed6cE94ae7209a0DE624','value': w3.toWei(2,'ether')})\n",
    "\n",
    "# 4.) End Auction\n",
    "service_contract.functions.endAuction(1).transact()"
   ]
  },
  {
   "cell_type": "code",
   "execution_count": null,
   "metadata": {},
   "outputs": [],
   "source": []
  }
 ],
 "metadata": {
  "kernelspec": {
   "display_name": "Python [conda env:ethereum]",
   "language": "python",
   "name": "conda-env-ethereum-py"
  },
  "language_info": {
   "codemirror_mode": {
    "name": "ipython",
    "version": 3
   },
   "file_extension": ".py",
   "mimetype": "text/x-python",
   "name": "python",
   "nbconvert_exporter": "python",
   "pygments_lexer": "ipython3",
   "version": "3.7.9"
  }
 },
 "nbformat": 4,
 "nbformat_minor": 2
}
